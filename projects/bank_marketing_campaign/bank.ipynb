{
  "nbformat": 4,
  "nbformat_minor": 0,
  "metadata": {
    "colab": {
      "provenance": [],
      "authorship_tag": "ABX9TyOCQe/btss0dZPi5UHIV3zw",
      "include_colab_link": true
    },
    "kernelspec": {
      "name": "python3",
      "display_name": "Python 3"
    },
    "language_info": {
      "name": "python"
    }
  },
  "cells": [
    {
      "cell_type": "markdown",
      "metadata": {
        "id": "view-in-github",
        "colab_type": "text"
      },
      "source": [
        "<a href=\"https://colab.research.google.com/github/championcode2025/machine_learning/blob/main/projects/bank_marketing_campaign/bank.ipynb\" target=\"_parent\"><img src=\"https://colab.research.google.com/assets/colab-badge.svg\" alt=\"Open In Colab\"/></a>"
      ]
    },
    {
      "cell_type": "code",
      "execution_count": 2,
      "metadata": {
        "id": "2Hx36rxlzaOR"
      },
      "outputs": [],
      "source": [
        "import numpy as np\n",
        "import pandas as pd\n",
        "import matplotlib.pyplot as plt\n",
        "import seaborn as sns"
      ]
    },
    {
      "cell_type": "markdown",
      "source": [
        "Pre Processing the data"
      ],
      "metadata": {
        "id": "QB5YLpP_3K7A"
      }
    },
    {
      "cell_type": "code",
      "source": [
        "from sklearn.preprocessing import OneHotEncoder\n",
        "from sklearn.impute import KNNImputer\n"
      ],
      "metadata": {
        "id": "KyF4cKdl38aM"
      },
      "execution_count": 3,
      "outputs": []
    },
    {
      "cell_type": "code",
      "source": [
        "# loading the dataset\n",
        "df = pd.read_csv('bank.csv')\n",
        "for i in df.columns:\n",
        "  if df[i].value_counts().get(\"unknown\",0) > 0:# checking if the df contains unknown intsead of nan\n",
        "    print(i)\n",
        "\n",
        "df.replace(\"unknown\",np.nan,inplace=True) #replacing unknown with nan\n",
        "# filling the missing value with statistical methods\n",
        "df[\"age\"].fillna(df[\"age\"].mean(),inplace=True)\n",
        "df[\"housing\"].fillna(df[\"housing\"].mode()[0],inplace=True)\n",
        "df[\"loan\"].fillna(df[\"loan\"].mode()[0],inplace=True)\n",
        "df_encoded = df.copy()\n",
        "#filling the missing values of categorical data using KNN imputer\n",
        "categorical_cols = [\"job\",\"marital\",\"education\"]\n",
        "encoder = OneHotEncoder(handle_unknown='ignore', sparse_output=False)\n",
        "encoded_data = encoder.fit_transform(df[categorical_cols])\n",
        "encoded_df = pd.DataFrame(encoded_data,columns=encoder.get_feature_names_out(categorical_cols))\n",
        "df_encoded = df_encoded.drop(columns=categorical_cols)\n",
        "df_encoded = pd.concat([df_encoded,encoded_df],axis=1)\n",
        "df = df_encoded.copy()\n",
        "# making the target class (yes/no)-->(1/0)\n",
        "df['y'] = df[\"y\"].replace({\"yes\":1,\"no\":0})\n",
        "df.columns\n",
        "data = df.copy()"
      ],
      "metadata": {
        "colab": {
          "base_uri": "https://localhost:8080/"
        },
        "id": "dKVrrE-9z81y",
        "outputId": "fff540d8-f4f0-4f0e-e4b3-e6e20c034580"
      },
      "execution_count": 20,
      "outputs": [
        {
          "output_type": "stream",
          "name": "stdout",
          "text": [
            "job\n",
            "marital\n",
            "education\n",
            "default\n",
            "housing\n",
            "loan\n"
          ]
        },
        {
          "output_type": "stream",
          "name": "stderr",
          "text": [
            "/tmp/ipython-input-4098696202.py:9: FutureWarning: A value is trying to be set on a copy of a DataFrame or Series through chained assignment using an inplace method.\n",
            "The behavior will change in pandas 3.0. This inplace method will never work because the intermediate object on which we are setting values always behaves as a copy.\n",
            "\n",
            "For example, when doing 'df[col].method(value, inplace=True)', try using 'df.method({col: value}, inplace=True)' or df[col] = df[col].method(value) instead, to perform the operation inplace on the original object.\n",
            "\n",
            "\n",
            "  df[\"age\"].fillna(df[\"age\"].mean(),inplace=True)\n",
            "/tmp/ipython-input-4098696202.py:10: FutureWarning: A value is trying to be set on a copy of a DataFrame or Series through chained assignment using an inplace method.\n",
            "The behavior will change in pandas 3.0. This inplace method will never work because the intermediate object on which we are setting values always behaves as a copy.\n",
            "\n",
            "For example, when doing 'df[col].method(value, inplace=True)', try using 'df.method({col: value}, inplace=True)' or df[col] = df[col].method(value) instead, to perform the operation inplace on the original object.\n",
            "\n",
            "\n",
            "  df[\"housing\"].fillna(df[\"housing\"].mode()[0],inplace=True)\n",
            "/tmp/ipython-input-4098696202.py:11: FutureWarning: A value is trying to be set on a copy of a DataFrame or Series through chained assignment using an inplace method.\n",
            "The behavior will change in pandas 3.0. This inplace method will never work because the intermediate object on which we are setting values always behaves as a copy.\n",
            "\n",
            "For example, when doing 'df[col].method(value, inplace=True)', try using 'df.method({col: value}, inplace=True)' or df[col] = df[col].method(value) instead, to perform the operation inplace on the original object.\n",
            "\n",
            "\n",
            "  df[\"loan\"].fillna(df[\"loan\"].mode()[0],inplace=True)\n",
            "/tmp/ipython-input-4098696202.py:22: FutureWarning: Downcasting behavior in `replace` is deprecated and will be removed in a future version. To retain the old behavior, explicitly call `result.infer_objects(copy=False)`. To opt-in to the future behavior, set `pd.set_option('future.no_silent_downcasting', True)`\n",
            "  df['y'] = df[\"y\"].replace({\"yes\":1,\"no\":0})\n"
          ]
        }
      ]
    },
    {
      "cell_type": "markdown",
      "source": [
        "spliting the dataset and defining the features"
      ],
      "metadata": {
        "id": "pbqXZJQBYqME"
      }
    },
    {
      "cell_type": "code",
      "source": [
        "from sklearn.model_selection import train_test_split\n"
      ],
      "metadata": {
        "id": "IicGTVGfYpoz"
      },
      "execution_count": 22,
      "outputs": []
    }
  ]
}