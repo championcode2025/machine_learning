{
  "nbformat": 4,
  "nbformat_minor": 0,
  "metadata": {
    "colab": {
      "provenance": [],
      "authorship_tag": "ABX9TyMeHFk6pl9LqxY8RwqTFmsr",
      "include_colab_link": true
    },
    "kernelspec": {
      "name": "python3",
      "display_name": "Python 3"
    },
    "language_info": {
      "name": "python"
    }
  },
  "cells": [
    {
      "cell_type": "markdown",
      "metadata": {
        "id": "view-in-github",
        "colab_type": "text"
      },
      "source": [
        "<a href=\"https://colab.research.google.com/github/championcode2025/machine_learning/blob/main/projects%20/bank_marketing_campaign/bank.ipynb\" target=\"_parent\"><img src=\"https://colab.research.google.com/assets/colab-badge.svg\" alt=\"Open In Colab\"/></a>"
      ]
    },
    {
      "cell_type": "code",
      "execution_count": 1,
      "metadata": {
        "id": "2Hx36rxlzaOR"
      },
      "outputs": [],
      "source": [
        "import numpy as np\n",
        "import pandas as pd\n",
        "import matplotlib.pyplot as plt\n",
        "import seaborn as sns"
      ]
    },
    {
      "cell_type": "markdown",
      "source": [
        "Pre Processing the data"
      ],
      "metadata": {
        "id": "QB5YLpP_3K7A"
      }
    },
    {
      "cell_type": "code",
      "source": [
        "from sklearn.preprocessing import OneHotEncoder\n",
        "from sklearn.impute import KNNImputer\n"
      ],
      "metadata": {
        "id": "KyF4cKdl38aM"
      },
      "execution_count": 12,
      "outputs": []
    },
    {
      "cell_type": "code",
      "source": [
        "# loading the dataset\n",
        "df = pd.read_csv('bank.csv')\n",
        "for i in df.columns:\n",
        "  if df[i].value_counts().get(\"unknown\",0) > 0:# checking if the df contains unknown intsead of nan\n",
        "    print(i)\n",
        "\n",
        "df.replace(\"unknown\",np.nan,inplace=True) #replacing unknown with nan\n",
        "# filling the missing value with statistical methods\n",
        "df[\"age\"].fillna(df[\"age\"].mean(),inplace=True)\n",
        "df[\"housing\"].fillna(df[\"housing\"].mode()[0],inplace=True)\n",
        "df[\"loan\"].fillna(df[\"loan\"].mode()[0],inplace=True)\n",
        "df_encoded = df.copy()\n",
        "#filling the missing values of categorical data using KNN imputer\n",
        "categorical_cols = [\"job\",\"marital\",\"education\"]\n",
        "encoder = OneHotEncoder(handle_unknown='ignore', sparse_output=False)\n",
        "encoded_data = encoder.fit_transform(df[categorical_cols])\n",
        "encoded_df = pd.DataFrame(encoded_data,columns=encoder.get_feature_names_out(categorical_cols))\n",
        "df_encoded = df_encoded.drop(columns=categorical_cols)\n",
        "df_encoded = pd.concat([df_encoded,encoded_df],axis=1)\n",
        "df = df_encoded.copy()\n",
        "\n"
      ],
      "metadata": {
        "colab": {
          "base_uri": "https://localhost:8080/"
        },
        "id": "dKVrrE-9z81y",
        "outputId": "56832ca4-4bdf-4f87-9acf-3cf576e9bd68"
      },
      "execution_count": 21,
      "outputs": [
        {
          "output_type": "stream",
          "name": "stdout",
          "text": [
            "job\n",
            "marital\n",
            "education\n",
            "default\n",
            "housing\n",
            "loan\n",
            "everything is filled\n"
          ]
        },
        {
          "output_type": "stream",
          "name": "stderr",
          "text": [
            "/tmp/ipython-input-1338011466.py:9: FutureWarning: A value is trying to be set on a copy of a DataFrame or Series through chained assignment using an inplace method.\n",
            "The behavior will change in pandas 3.0. This inplace method will never work because the intermediate object on which we are setting values always behaves as a copy.\n",
            "\n",
            "For example, when doing 'df[col].method(value, inplace=True)', try using 'df.method({col: value}, inplace=True)' or df[col] = df[col].method(value) instead, to perform the operation inplace on the original object.\n",
            "\n",
            "\n",
            "  df[\"age\"].fillna(df[\"age\"].mean(),inplace=True)\n",
            "/tmp/ipython-input-1338011466.py:10: FutureWarning: A value is trying to be set on a copy of a DataFrame or Series through chained assignment using an inplace method.\n",
            "The behavior will change in pandas 3.0. This inplace method will never work because the intermediate object on which we are setting values always behaves as a copy.\n",
            "\n",
            "For example, when doing 'df[col].method(value, inplace=True)', try using 'df.method({col: value}, inplace=True)' or df[col] = df[col].method(value) instead, to perform the operation inplace on the original object.\n",
            "\n",
            "\n",
            "  df[\"housing\"].fillna(df[\"housing\"].mode()[0],inplace=True)\n",
            "/tmp/ipython-input-1338011466.py:11: FutureWarning: A value is trying to be set on a copy of a DataFrame or Series through chained assignment using an inplace method.\n",
            "The behavior will change in pandas 3.0. This inplace method will never work because the intermediate object on which we are setting values always behaves as a copy.\n",
            "\n",
            "For example, when doing 'df[col].method(value, inplace=True)', try using 'df.method({col: value}, inplace=True)' or df[col] = df[col].method(value) instead, to perform the operation inplace on the original object.\n",
            "\n",
            "\n",
            "  df[\"loan\"].fillna(df[\"loan\"].mode()[0],inplace=True)\n"
          ]
        }
      ]
    }
  ]
}